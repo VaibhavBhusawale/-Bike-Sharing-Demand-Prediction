{
  "nbformat": 4,
  "nbformat_minor": 0,
  "metadata": {
    "kernelspec": {
      "display_name": "Python 3",
      "language": "python",
      "name": "python3"
    },
    "language_info": {
      "codemirror_mode": {
        "name": "ipython",
        "version": 3
      },
      "file_extension": ".py",
      "mimetype": "text/x-python",
      "name": "python",
      "nbconvert_exporter": "python",
      "pygments_lexer": "ipython3",
      "version": "3.6.6"
    },
    "colab": {
      "name": "Bike Sharing Demand Prediction - Capstone Project (Shaloy, Smriti, Vaibhav).ipynb",
      "provenance": [],
      "collapsed_sections": [],
      "include_colab_link": true
    }
  },
  "cells": [
    {
      "cell_type": "markdown",
      "metadata": {
        "id": "view-in-github",
        "colab_type": "text"
      },
      "source": [
        "<a href=\"https://colab.research.google.com/github/VaibhavBhusawale/-Bike-Sharing-Demand-Prediction/blob/main/Bike_Sharing_Demand_Prediction_Capstone_Project_(Shaloy%2C_Smriti%2C_Vaibhav).ipynb\" target=\"_parent\"><img src=\"https://colab.research.google.com/assets/colab-badge.svg\" alt=\"Open In Colab\"/></a>"
      ]
    },
    {
      "cell_type": "markdown",
      "metadata": {
        "id": "tOGC-qoyhJeX"
      },
      "source": [
        "# <b><u> Project Title : Seoul Bike Sharing Demand Prediction </u></b>"
      ]
    },
    {
      "cell_type": "markdown",
      "metadata": {
        "id": "Y06xIdG26kRF"
      },
      "source": [
        "## <b> Problem Description </b>\n",
        "\n",
        "### Currently Rental bikes are introduced in many urban cities for the enhancement of mobility comfort. It is important to make the rental bike available and accessible to the public at the right time as it lessens the waiting time. Eventually, providing the city with a stable supply of rental bikes becomes a major concern. The crucial part is the prediction of bike count required at each hour for the stable supply of rental bikes.\n"
      ]
    },
    {
      "cell_type": "markdown",
      "metadata": {
        "id": "AlLxAtlziMbP"
      },
      "source": [
        "## <b> Data Description </b>\n",
        "\n",
        "### <b> The dataset contains weather information (Temperature, Humidity, Windspeed, Visibility, Dewpoint, Solar radiation, Snowfall, Rainfall), the number of bikes rented per hour and date information.</b>\n",
        "\n",
        "\n",
        "### <b>Attribute Information: </b>\n",
        "\n",
        "* ### Date : year-month-day\n",
        "* ### Rented Bike count - Count of bikes rented at each hour\n",
        "* ### Hour - Hour of he day\n",
        "* ### Temperature-Temperature in Celsius\n",
        "* ### Humidity - %\n",
        "* ### Windspeed - m/s\n",
        "* ### Visibility - 10m\n",
        "* ### Dew point temperature - Celsius\n",
        "* ### Solar radiation - MJ/m2\n",
        "* ### Rainfall - mm\n",
        "* ### Snowfall - cm\n",
        "* ### Seasons - Winter, Spring, Summer, Autumn\n",
        "* ### Holiday - Holiday/No holiday\n",
        "* ### Functional Day - NoFunc(Non Functional Hours), Fun(Functional hours)"
      ]
    },
    {
      "cell_type": "markdown",
      "source": [
        "# **Hypothesis for the problem:**"
      ],
      "metadata": {
        "id": "VBr-Sx7mz5H0"
      }
    },
    {
      "cell_type": "markdown",
      "source": [
        "1. The number of bikes rented during rainfall/snowfall reduces.\n",
        "2. The number of bikes rented increases during peak hours.\n",
        "3. The number of bikes rented during weekends is less compared to weekdays.\n",
        "4. The number of bikes rented on holidays is less compared to that of working days.\n",
        "5. The number of bikes rented reduces if there is high humidity.\n",
        "6. The number of bikes rented on days with high solar radiations is low.\n",
        "7. The number of bikes rented on average in summer is higher compared to other seasons."
      ],
      "metadata": {
        "id": "ABK8XU2i0BaS"
      }
    },
    {
      "cell_type": "markdown",
      "source": [
        "# **Data Warehousing:**"
      ],
      "metadata": {
        "id": "JDxXXJdv5-8Z"
      }
    },
    {
      "cell_type": "code",
      "source": [
        "# Importing the required libraries\n",
        "\n",
        "import pandas as pd\n",
        "import numpy as np\n",
        "import matplotlib.pyplot as plt\n",
        "import seaborn as sns\n",
        "%matplotlib inline"
      ],
      "metadata": {
        "id": "JyeRr88z3sPt"
      },
      "execution_count": null,
      "outputs": []
    },
    {
      "cell_type": "code",
      "source": [
        "from google.colab import drive\n",
        "drive.mount('/content/drive')"
      ],
      "metadata": {
        "id": "sUYwyyX23tYj"
      },
      "execution_count": null,
      "outputs": []
    },
    {
      "cell_type": "code",
      "source": [
        "# Importing data\n",
        "\n",
        "path = '/content/drive/MyDrive/Bike sharing demand prediction - Shaloy Lewis/Copy of SeoulBikeData.csv'\n",
        "\n",
        "df = pd.read_csv(path, encoding='iso-8859-1')"
      ],
      "metadata": {
        "id": "JQaQ5jHF3oTg"
      },
      "execution_count": null,
      "outputs": []
    },
    {
      "cell_type": "code",
      "source": [
        "# Basic inspection\n",
        "\n",
        "df.head()"
      ],
      "metadata": {
        "id": "smRMebdx459x"
      },
      "execution_count": null,
      "outputs": []
    },
    {
      "cell_type": "code",
      "source": [
        "df.columns"
      ],
      "metadata": {
        "id": "YuToSgTk5LVo"
      },
      "execution_count": null,
      "outputs": []
    },
    {
      "cell_type": "code",
      "source": [
        "# updating the attribute names\n",
        "\n",
        "df = df.rename(columns= {'Date':'date','Rented Bike Count': 'rented_bike_count', 'Hour':'hour',\n",
        "                    'Temperature(°C)':'temp', 'Humidity(%)':'humidity',\n",
        "                    'Wind speed (m/s)': 'wind_speed', 'Visibility (10m)': 'visibility',\n",
        "                    'Dew point temperature(°C)':'dew_point_temp',\n",
        "                    'Solar Radiation (MJ/m2)': 'solar_radiation', 'Rainfall(mm)': 'rainfall',\n",
        "                    'Snowfall (cm)':'snowfall', 'Seasons':'seasons',\n",
        "                    'Holiday':'holiday', 'Functioning Day':'func_day'})"
      ],
      "metadata": {
        "id": "xYaGjwOIAqDE"
      },
      "execution_count": null,
      "outputs": []
    },
    {
      "cell_type": "code",
      "source": [
        "df.columns"
      ],
      "metadata": {
        "id": "I-dH332kEyXn"
      },
      "execution_count": null,
      "outputs": []
    },
    {
      "cell_type": "code",
      "source": [
        "df.shape"
      ],
      "metadata": {
        "id": "7rofPGu_5TY5"
      },
      "execution_count": null,
      "outputs": []
    },
    {
      "cell_type": "code",
      "source": [
        "df.info()"
      ],
      "metadata": {
        "id": "555J0A_F5bxZ"
      },
      "execution_count": null,
      "outputs": []
    },
    {
      "cell_type": "code",
      "source": [
        "df.describe()"
      ],
      "metadata": {
        "id": "yWx6xCKL5i0y"
      },
      "execution_count": null,
      "outputs": []
    },
    {
      "cell_type": "code",
      "source": [
        "df.describe().shape"
      ],
      "metadata": {
        "id": "w13SOifO5th5"
      },
      "execution_count": null,
      "outputs": []
    },
    {
      "cell_type": "code",
      "source": [
        "df.isnull().sum()"
      ],
      "metadata": {
        "id": "7-izoxVY5u3h"
      },
      "execution_count": null,
      "outputs": []
    },
    {
      "cell_type": "code",
      "source": [
        "df['func_day'].value_counts()"
      ],
      "metadata": {
        "id": "KzDXAmQf6jDA"
      },
      "execution_count": null,
      "outputs": []
    },
    {
      "cell_type": "code",
      "source": [
        "df['seasons'].value_counts()"
      ],
      "metadata": {
        "id": "v_5TRZ_Z7DR0"
      },
      "execution_count": null,
      "outputs": []
    },
    {
      "cell_type": "code",
      "source": [
        "df['holiday'].value_counts()"
      ],
      "metadata": {
        "id": "9W3hDl5H7I17"
      },
      "execution_count": null,
      "outputs": []
    },
    {
      "cell_type": "markdown",
      "source": [
        "## Visual Inspection:"
      ],
      "metadata": {
        "id": "bsvWqTN00Ra0"
      }
    },
    {
      "cell_type": "code",
      "source": [
        "sns.scatterplot(data= df, x='visibility', y='rented_bike_count')"
      ],
      "metadata": {
        "id": "jCOCqHid0A3M"
      },
      "execution_count": null,
      "outputs": []
    },
    {
      "cell_type": "code",
      "source": [
        "sns.scatterplot(data= df, x='humidity', y='rented_bike_count')"
      ],
      "metadata": {
        "id": "NmBj3h9W8er7"
      },
      "execution_count": null,
      "outputs": []
    },
    {
      "cell_type": "code",
      "source": [
        "sns.scatterplot(data= df, x='temp', y='rented_bike_count')"
      ],
      "metadata": {
        "id": "JCU3EqfB9IwT"
      },
      "execution_count": null,
      "outputs": []
    },
    {
      "cell_type": "code",
      "source": [
        "sns.scatterplot(data= df, x='wind_speed', y='rented_bike_count')"
      ],
      "metadata": {
        "id": "GRjXjF6veK8V"
      },
      "execution_count": null,
      "outputs": []
    },
    {
      "cell_type": "markdown",
      "source": [
        "# **EDA:**"
      ],
      "metadata": {
        "id": "Wd9_Fd9L9XAJ"
      }
    },
    {
      "cell_type": "code",
      "source": [
        "sns.barplot(df[\"seasons\"],df['rented_bike_count'])"
      ],
      "metadata": {
        "id": "WSLyYW8V-bWL"
      },
      "execution_count": null,
      "outputs": []
    },
    {
      "cell_type": "code",
      "source": [
        "sns.barplot(df[\"holiday\"],df['rented_bike_count'])"
      ],
      "metadata": {
        "id": "omKveMZu-thn"
      },
      "execution_count": null,
      "outputs": []
    },
    {
      "cell_type": "code",
      "source": [
        "sns.barplot(df[\"func_day\"],df['rented_bike_count'])"
      ],
      "metadata": {
        "id": "eQHASFn5_dLk"
      },
      "execution_count": null,
      "outputs": []
    },
    {
      "cell_type": "code",
      "source": [
        "plt.figure(figsize=(7,7))\n",
        "sns.distplot(df['rented_bike_count'], color=\"c\")"
      ],
      "metadata": {
        "id": "7y3Vz-3v_4z2"
      },
      "execution_count": null,
      "outputs": []
    },
    {
      "cell_type": "code",
      "source": [
        "plt.figure(figsize=(10,8))\n",
        "sns.distplot(np.sqrt(df['rented_bike_count']), color='c')"
      ],
      "metadata": {
        "id": "_5BmPlZ9_opY"
      },
      "execution_count": null,
      "outputs": []
    },
    {
      "cell_type": "code",
      "source": [
        "sns.distplot(np.log10(df['rented_bike_count']+10),color=\"y\")"
      ],
      "metadata": {
        "id": "g27-tlqNCwWx"
      },
      "execution_count": null,
      "outputs": []
    },
    {
      "cell_type": "code",
      "source": [
        "numeric_columns = ['rented_bike_count', 'hour', 'temp', 'humidity', 'wind_speed',\n",
        "       'visibility', 'solar_radiation', 'rainfall', 'dew_point_temp',\n",
        "       'snowfall']"
      ],
      "metadata": {
        "id": "z_CoVHufE4F0"
      },
      "execution_count": null,
      "outputs": []
    },
    {
      "cell_type": "code",
      "source": [
        "categorical_columns = ['holiday', 'func_day', 'seasons']"
      ],
      "metadata": {
        "id": "Hco69vD0iLyE"
      },
      "execution_count": null,
      "outputs": []
    },
    {
      "cell_type": "code",
      "source": [
        "for column in numeric_columns[:]:\n",
        "  if column == 'rented_bike_count':\n",
        "    pass\n",
        "  else:\n",
        "    sns.regplot(x=df[column],y=df[\"rented_bike_count\"],line_kws={\"color\": \"r\"})\n",
        "  \n",
        "  plt.show()"
      ],
      "metadata": {
        "id": "uzJVfqxXDGPq"
      },
      "execution_count": null,
      "outputs": []
    },
    {
      "cell_type": "code",
      "source": [
        "plt.figure(figsize=(15,8))\n",
        "correlation = df.corr()\n",
        "sns.heatmap(abs(correlation), annot=True, cmap='coolwarm')"
      ],
      "metadata": {
        "id": "ydth6AytEONR"
      },
      "execution_count": null,
      "outputs": []
    },
    {
      "cell_type": "code",
      "source": [
        "plt.figure(figsize=(15,8))\n",
        "correlation = independent_var.corr()\n",
        "sns.heatmap(abs(correlation), annot=True, cmap='coolwarm')"
      ],
      "metadata": {
        "id": "XadIGwDTrsvB"
      },
      "execution_count": null,
      "outputs": []
    }
  ]
}